{
 "cells": [
  {
   "cell_type": "markdown",
   "id": "3a22c5d3",
   "metadata": {},
   "source": [
    "## union\n",
    "**共用体** "
   ]
  },
  {
   "cell_type": "code",
   "execution_count": null,
   "id": "8d39dc4f",
   "metadata": {},
   "outputs": [],
   "source": [
    "# hahahahah"
   ]
  },
  {
   "cell_type": "code",
   "execution_count": null,
   "id": "0aaa10c4",
   "metadata": {},
   "outputs": [],
   "source": [
    "#include <stdio.h>\n",
    "\n",
    "typedef union {\n",
    "    int i;\n",
    "    int k[5];\n",
    "    char c;\n",
    "} Data;\n",
    "\n",
    "typedef struct {\n",
    "    int a;\n",
    "\n",
    "    // Data cow;\n",
    "    // short b;\n",
    "} DataStruct;\n",
    "\n",
    "int main(void){\n",
    "    printf(\"Size of Data: %d bytes\\n\", sizeof(Data)); //20 bytes\n",
    "    printf(\"Size of DataStruct: %d bytes\\n\", sizeof(DataStruct)); //28 bytes\n",
    "}"
   ]
  }
 ],
 "metadata": {
  "kernelspec": {
   "display_name": "Python 3",
   "language": "python",
   "name": "python3"
  },
  "language_info": {
   "name": "python",
   "version": "3.14.0"
  }
 },
 "nbformat": 4,
 "nbformat_minor": 5
}
